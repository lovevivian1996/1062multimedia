{
 "cells": [
  {
   "cell_type": "code",
   "execution_count": 1,
   "metadata": {},
   "outputs": [
    {
     "data": {
      "text/plain": [
       "<matplotlib.figure.Figure at 0x20439f99908>"
      ]
     },
     "metadata": {},
     "output_type": "display_data"
    },
    {
     "name": "stderr",
     "output_type": "stream",
     "text": [
      "C:\\ProgramData\\Anaconda3\\lib\\site-packages\\skimage\\io\\_io.py:132: UserWarning: black cat2_jpeg.jpg is a low contrast image\n",
      "  warn('%s is a low contrast image' % fname)\n",
      "C:\\ProgramData\\Anaconda3\\lib\\site-packages\\skimage\\util\\dtype.py:171: UserWarning: Downcasting uint32 to uint8 without scaling because max value 255 fits in uint8\n",
      "  \"value {} fits in {}\".format(a.dtype, dtype, a.max(), dtype))\n",
      "C:\\ProgramData\\Anaconda3\\lib\\site-packages\\ipykernel_launcher.py:57: RuntimeWarning: overflow encountered in ulong_scalars\n"
     ]
    },
    {
     "name": "stdout",
     "output_type": "stream",
     "text": [
      "PSNR1 32.334190726304534 dB\n"
     ]
    }
   ],
   "source": [
    "from scipy.fftpack import dct,idct\n",
    "from skimage import io\n",
    "import matplotlib.pyplot as plt\n",
    "import numpy as np\n",
    "\n",
    "def dct2(block):\n",
    "    return dct(dct(block.T, norm = 'ortho').T, norm = 'ortho')\n",
    "\n",
    "def idct2(block):\n",
    "    return idct(idct(block.T, norm = 'ortho').T, norm = 'ortho')\n",
    "\n",
    "def quanStep(block,quanTable):\n",
    "    dct_block = dct2(block.T.T)\n",
    "    qdct_block = np.zeros((8,8))\n",
    "    for i in range(0,8):\n",
    "        for j in range(0,8):\n",
    "            qdct_block[i,j] = np.round(float(dct_block[i,j]/(quanTable[i,j])))*quanTable[i,j]\n",
    "            ret_qdct_block = np.uint8(idct2(qdct_block.T.T))\n",
    "    return ret_qdct_block\n",
    "\n",
    "def Dis_Res(block):\n",
    "    rows,cols=block.shape\n",
    "    for i in range(0,rows):\n",
    "        for j in range(0,cols):\n",
    "            print(block[i][j])\n",
    "        print()\n",
    "\n",
    "def imageDCT2D(image,quanTable):\n",
    "    rows,cols=image.shape\n",
    "    dct_image = np.zeros((rows,cols))\n",
    "    row_times = np.uint8(rows/8)\n",
    "    col_times = np.uint8(cols/8)\n",
    "\n",
    "    for i in range(0,row_times):\n",
    "        for j in range(0,col_times):\n",
    "            block = image[8*i+0:8*i+8,8*j+0:8*j+8]\n",
    "            qblock = quanStep(block,quanTable)\n",
    "            dct_image[8*i+0:8*i+8,8*j+0:8*j+8] = qblock;\n",
    "    return dct_image\n",
    "\n",
    "def PSNR_Cal2(image,qimage):\n",
    "    rows,cols,dims=image.shape\n",
    "    dif = 0.0\n",
    "    for i in range(0,rows):\n",
    "        for j in range(0,cols):\n",
    "            for k in range(0,dims):\n",
    "                dif = dif + (image[i][j][k] - qimage[i][j][k])*(image[i][j][k] - qimage[i][j][k])\n",
    "    MSE = dif / (rows*cols)\n",
    "    PSNR = 10 * np.log10(255*255/MSE)\n",
    "    return PSNR\n",
    "\n",
    "def PSNR_Cal(image,qimage):\n",
    "    rows,cols=image.shape\n",
    "    dif = 0.0\n",
    "    for i in range(0,rows):\n",
    "        for j in range(0,cols):\n",
    "            dif = dif + (image[i][j] - qimage[i][j])*(image[i][j] - qimage[i][j])\n",
    "    MSE = dif / (rows*cols)\n",
    "    PSNR = 10 * np.log10(255*255/MSE)\n",
    "    return PSNR\n",
    "\n",
    "def QF(QT,qu):\n",
    "    QT2 = np.zeros((8,8))\n",
    "    if(qu <= 0):\n",
    "        qu = 1\n",
    "    if(qu>100):\n",
    "        qu = 100\n",
    "    if(qu<50):\n",
    "        qu = 5000/qu\n",
    "    else:\n",
    "        qu = 200-qu*2\n",
    "    for i in range(0,8):\n",
    "        for j in range(0,8):\n",
    "            QT2[i][j] = QT[i][j]*qu/100\n",
    "    return QT2\n",
    "\n",
    "img=io.imread('black cat2.jpg')\n",
    "plt.figure(num=0,figsize=(15,15))\n",
    "quality = 90\n",
    "\n",
    "quanTable = np.array([[16,11,10,16,24,40,51,61], [12,12,14,19,26,58,60,55], [14,13,16,24,40,57,69,56], [14,17,22,29,51,87,80,62], [18,22,37,56,68,109,103,92], [24,35,55,64,81,104,113,92], [49,64,78,87,103,121,120,101], [72,92,95,98,112,100,103,99]])\n",
    "\n",
    "quanTable2 = np.int64(QF(quanTable, quality))\n",
    "\n",
    "plt.subplot(1,2,1)\n",
    "plt.title('original image')\n",
    "plt.imshow(img, cmap='gray')\n",
    "\n",
    "img2 = np.uint32(imageDCT2D(img,quanTable2))\n",
    "\n",
    "plt.subplot(1,2,2)\n",
    "plt.title('DCT quantized result')\n",
    "plt.imshow(img2, cmap='gray')\n",
    "plt.show()\n",
    "io.imsave('black cat2_jpeg.jpg',img2)\n",
    "print('PSNR1',PSNR_Cal(img,img2),'dB')\n",
    "\n",
    "# img3=io.imread('black cat.jpg') # plt.subplot(2,2,3)\n",
    "# plt.title('original image') # plt.imshow(img3)\n",
    "\n",
    "# img4 = np.uint32(imageDCT2D(img3,quanTable2)) # plt.subplot(2,2,4)\n",
    "# plt.imshow(img4, cmap='gray')\n",
    "# io.imsave('black cat_jpeg.jpg',img4) # plt.show()\n",
    "# print('PSNR2',PSNR_Cal2(img3,img4),'dB')\n"
   ]
  },
  {
   "cell_type": "code",
   "execution_count": null,
   "metadata": {},
   "outputs": [],
   "source": []
  }
 ],
 "metadata": {
  "kernelspec": {
   "display_name": "Python 3",
   "language": "python",
   "name": "python3"
  },
  "language_info": {
   "codemirror_mode": {
    "name": "ipython",
    "version": 3
   },
   "file_extension": ".py",
   "mimetype": "text/x-python",
   "name": "python",
   "nbconvert_exporter": "python",
   "pygments_lexer": "ipython3",
   "version": "3.6.4"
  }
 },
 "nbformat": 4,
 "nbformat_minor": 2
}
